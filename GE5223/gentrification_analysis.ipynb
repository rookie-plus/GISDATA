{
 "cells": [
  {
   "cell_type": "markdown",
   "metadata": {},
   "source": [
    "# GE5223 - NYC Farmers Markets and Gentrification Analysis"
   ]
  },
  {
   "cell_type": "markdown",
   "metadata": {},
   "source": [
    "## Introduction \n",
    "This project investigates the relationship between farmers markets and gentrification in NYC during 2009 to 2023"
   ]
  },
  {
   "cell_type": "markdown",
   "id": "e130aa0b",
   "metadata": {},
   "source": [
    "---\n",
    "### 1. Environment Setup\n",
    "- Import libraries: pandas, geopandas, numpy, matplotlib, seaborn, pysal\n",
    "- Set working directories (data/, scripts/, output/)\n",
    "- Define coordinate reference system (EPSG:4326)"
   ]
  },
  {
   "cell_type": "code",
   "execution_count": null,
   "id": "99c3562b",
   "metadata": {},
   "outputs": [],
   "source": []
  },
  {
   "cell_type": "markdown",
   "id": "7738565f",
   "metadata": {},
   "source": [
    "---\n",
    "### 2. Data Loading & Inspection\n",
    "- Load farmers market datasets (2009–2023)\n",
    "- Load NHGIS demographic/economic data (1990–2023)\n",
    "- Load CPI-U data (1990–2024)\n",
    "- Load borough and block group shapefiles\n"
   ]
  },
  {
   "cell_type": "code",
   "execution_count": null,
   "id": "a4cfebf7",
   "metadata": {},
   "outputs": [],
   "source": []
  },
  {
   "cell_type": "markdown",
   "id": "ba49fcf2",
   "metadata": {},
   "source": [
    "---\n",
    "## Data processing"
   ]
  },
  {
   "cell_type": "markdown",
   "id": "1f2eecb5",
   "metadata": {},
   "source": [
    "\n",
    "### 3. Data Cleaning\n",
    "- Harmonize field names and data types\n",
    "- Drop missing or duplicate records\n",
    "- Standardize coordinates (longitude/latitude)\n",
    "- Remove outliers in income/rent fields\n",
    "- CPI-based inflation adjustment for comparable values\n"
   ]
  },
  {
   "cell_type": "code",
   "execution_count": null,
   "id": "5f83ebc0",
   "metadata": {},
   "outputs": [],
   "source": []
  },
  {
   "cell_type": "markdown",
   "id": "da9681eb",
   "metadata": {},
   "source": [
    "---\n",
    "### 4. Spatial Joins & Data Integration\n",
    "- Spatially join farmers markets with census block groups\n",
    "- Aggregate market counts per block group per year\n",
    "- Join with demographic & economic variables\n",
    "- Output combined panel dataset (spatial + temporal)\n"
   ]
  },
  {
   "cell_type": "code",
   "execution_count": null,
   "id": "05186855",
   "metadata": {},
   "outputs": [],
   "source": []
  },
  {
   "cell_type": "markdown",
   "id": "c35a4123",
   "metadata": {},
   "source": [
    "---\n",
    "## Analysis"
   ]
  },
  {
   "cell_type": "markdown",
   "id": "a22d70aa",
   "metadata": {},
   "source": [
    "---\n",
    "### 5. Gentrification Indicator Construction\n",
    "- Calculate annual growth rates for median income and rent\n",
    "- Normalize demographic composition (e.g., age, education)\n",
    "- Classify gentrifying neighborhoods (based on UDP definitions)\n"
   ]
  },
  {
   "cell_type": "code",
   "execution_count": null,
   "id": "e4da1cba",
   "metadata": {},
   "outputs": [],
   "source": []
  },
  {
   "cell_type": "markdown",
   "id": "edfa4431",
   "metadata": {},
   "source": [
    "---\n",
    "### 6. Spatial Statistical Analysis\n",
    "- Global Moran’s I and Local LISA analysis\n",
    "- Kernel Density Estimation for market concentration\n",
    "- Track spatial shift of farmers markets over time\n"
   ]
  },
  {
   "cell_type": "markdown",
   "id": "d3409c81",
   "metadata": {},
   "source": []
  },
  {
   "cell_type": "markdown",
   "id": "7df35649",
   "metadata": {},
   "source": [
    "---\n",
    "### 7. Temporal & Correlation Analysis\n",
    "- Plot temporal trends for market count, income, rent\n",
    "- Compute correlation coefficients between market density and economic growth\n",
    "- Build regression or spatial lag models for significance testing\n"
   ]
  },
  {
   "cell_type": "code",
   "execution_count": null,
   "id": "2e2e2b5f",
   "metadata": {},
   "outputs": [],
   "source": []
  },
  {
   "cell_type": "markdown",
   "id": "3044be53",
   "metadata": {},
   "source": [
    "---\n",
    "### 8. Visualization & Mapping\n",
    "- Generate thematic maps (density, rent change, clusters)\n",
    "- Create interactive maps (Folium)\n",
    "- Export results as GeoPackage, CSV, and figures\n"
   ]
  },
  {
   "cell_type": "code",
   "execution_count": null,
   "id": "a4e466a8",
   "metadata": {},
   "outputs": [],
   "source": []
  },
  {
   "cell_type": "markdown",
   "id": "5c7bb4e3",
   "metadata": {},
   "source": [
    "---\n",
    "### 9. Summary & Discussion\n",
    "- Interpret spatial and temporal findings\n",
    "- Discuss implications for urban policy and community development\n",
    "- Identify limitations and further research directions\n"
   ]
  }
 ],
 "metadata": {
  "kernelspec": {
   "display_name": "Python 3",
   "language": "python",
   "name": "python3"
  }
 },
 "nbformat": 4,
 "nbformat_minor": 5
}
